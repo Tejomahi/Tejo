{
 "cells": [
  {
   "cell_type": "code",
   "execution_count": 19,
   "id": "757518d9-f5a6-44d9-b26e-3a51f418bb2a",
   "metadata": {
    "scrolled": true
   },
   "outputs": [
    {
     "name": "stdout",
     "output_type": "stream",
     "text": [
      "Requirement already satisfied: rich in c:\\users\\nirma\\anaconda3\\lib\\site-packages (13.9.4)\n",
      "Requirement already satisfied: tensorflow in c:\\users\\nirma\\anaconda3\\lib\\site-packages (2.18.0)\n",
      "Requirement already satisfied: keras in c:\\users\\nirma\\anaconda3\\lib\\site-packages (3.8.0)\n",
      "Requirement already satisfied: markdown-it-py>=2.2.0 in c:\\users\\nirma\\anaconda3\\lib\\site-packages (from rich) (2.2.0)\n",
      "Requirement already satisfied: pygments<3.0.0,>=2.13.0 in c:\\users\\nirma\\anaconda3\\lib\\site-packages (from rich) (2.15.1)\n",
      "Requirement already satisfied: tensorflow-intel==2.18.0 in c:\\users\\nirma\\anaconda3\\lib\\site-packages (from tensorflow) (2.18.0)\n",
      "Requirement already satisfied: absl-py>=1.0.0 in c:\\users\\nirma\\anaconda3\\lib\\site-packages (from tensorflow-intel==2.18.0->tensorflow) (2.1.0)\n",
      "Requirement already satisfied: astunparse>=1.6.0 in c:\\users\\nirma\\anaconda3\\lib\\site-packages (from tensorflow-intel==2.18.0->tensorflow) (1.6.3)\n",
      "Requirement already satisfied: flatbuffers>=24.3.25 in c:\\users\\nirma\\anaconda3\\lib\\site-packages (from tensorflow-intel==2.18.0->tensorflow) (25.1.24)\n",
      "Requirement already satisfied: gast!=0.5.0,!=0.5.1,!=0.5.2,>=0.2.1 in c:\\users\\nirma\\anaconda3\\lib\\site-packages (from tensorflow-intel==2.18.0->tensorflow) (0.6.0)\n",
      "Requirement already satisfied: google-pasta>=0.1.1 in c:\\users\\nirma\\anaconda3\\lib\\site-packages (from tensorflow-intel==2.18.0->tensorflow) (0.2.0)\n",
      "Requirement already satisfied: libclang>=13.0.0 in c:\\users\\nirma\\anaconda3\\lib\\site-packages (from tensorflow-intel==2.18.0->tensorflow) (18.1.1)\n",
      "Requirement already satisfied: opt-einsum>=2.3.2 in c:\\users\\nirma\\anaconda3\\lib\\site-packages (from tensorflow-intel==2.18.0->tensorflow) (3.4.0)\n",
      "Requirement already satisfied: packaging in c:\\users\\nirma\\anaconda3\\lib\\site-packages (from tensorflow-intel==2.18.0->tensorflow) (23.1)\n",
      "Requirement already satisfied: protobuf!=4.21.0,!=4.21.1,!=4.21.2,!=4.21.3,!=4.21.4,!=4.21.5,<6.0.0dev,>=3.20.3 in c:\\users\\nirma\\anaconda3\\lib\\site-packages (from tensorflow-intel==2.18.0->tensorflow) (3.20.3)\n",
      "Requirement already satisfied: requests<3,>=2.21.0 in c:\\users\\nirma\\anaconda3\\lib\\site-packages (from tensorflow-intel==2.18.0->tensorflow) (2.31.0)\n",
      "Requirement already satisfied: setuptools in c:\\users\\nirma\\anaconda3\\lib\\site-packages (from tensorflow-intel==2.18.0->tensorflow) (68.2.2)\n",
      "Requirement already satisfied: six>=1.12.0 in c:\\users\\nirma\\anaconda3\\lib\\site-packages (from tensorflow-intel==2.18.0->tensorflow) (1.16.0)\n",
      "Requirement already satisfied: termcolor>=1.1.0 in c:\\users\\nirma\\anaconda3\\lib\\site-packages (from tensorflow-intel==2.18.0->tensorflow) (2.5.0)\n",
      "Requirement already satisfied: typing-extensions>=3.6.6 in c:\\users\\nirma\\anaconda3\\lib\\site-packages (from tensorflow-intel==2.18.0->tensorflow) (4.9.0)\n",
      "Requirement already satisfied: wrapt>=1.11.0 in c:\\users\\nirma\\anaconda3\\lib\\site-packages (from tensorflow-intel==2.18.0->tensorflow) (1.14.1)\n",
      "Requirement already satisfied: grpcio<2.0,>=1.24.3 in c:\\users\\nirma\\anaconda3\\lib\\site-packages (from tensorflow-intel==2.18.0->tensorflow) (1.70.0)\n",
      "Requirement already satisfied: tensorboard<2.19,>=2.18 in c:\\users\\nirma\\anaconda3\\lib\\site-packages (from tensorflow-intel==2.18.0->tensorflow) (2.18.0)\n",
      "Requirement already satisfied: numpy<2.1.0,>=1.26.0 in c:\\users\\nirma\\anaconda3\\lib\\site-packages (from tensorflow-intel==2.18.0->tensorflow) (1.26.4)\n",
      "Requirement already satisfied: h5py>=3.11.0 in c:\\users\\nirma\\anaconda3\\lib\\site-packages (from tensorflow-intel==2.18.0->tensorflow) (3.12.1)\n",
      "Requirement already satisfied: ml-dtypes<0.5.0,>=0.4.0 in c:\\users\\nirma\\anaconda3\\lib\\site-packages (from tensorflow-intel==2.18.0->tensorflow) (0.4.1)\n",
      "Requirement already satisfied: tensorflow-io-gcs-filesystem>=0.23.1 in c:\\users\\nirma\\anaconda3\\lib\\site-packages (from tensorflow-intel==2.18.0->tensorflow) (0.31.0)\n",
      "Requirement already satisfied: namex in c:\\users\\nirma\\anaconda3\\lib\\site-packages (from keras) (0.0.8)\n",
      "Requirement already satisfied: optree in c:\\users\\nirma\\anaconda3\\lib\\site-packages (from keras) (0.14.0)\n",
      "Requirement already satisfied: mdurl~=0.1 in c:\\users\\nirma\\anaconda3\\lib\\site-packages (from markdown-it-py>=2.2.0->rich) (0.1.0)\n",
      "Requirement already satisfied: wheel<1.0,>=0.23.0 in c:\\users\\nirma\\anaconda3\\lib\\site-packages (from astunparse>=1.6.0->tensorflow-intel==2.18.0->tensorflow) (0.41.2)\n",
      "Requirement already satisfied: charset-normalizer<4,>=2 in c:\\users\\nirma\\anaconda3\\lib\\site-packages (from requests<3,>=2.21.0->tensorflow-intel==2.18.0->tensorflow) (2.0.4)\n",
      "Requirement already satisfied: idna<4,>=2.5 in c:\\users\\nirma\\anaconda3\\lib\\site-packages (from requests<3,>=2.21.0->tensorflow-intel==2.18.0->tensorflow) (3.4)\n",
      "Requirement already satisfied: urllib3<3,>=1.21.1 in c:\\users\\nirma\\anaconda3\\lib\\site-packages (from requests<3,>=2.21.0->tensorflow-intel==2.18.0->tensorflow) (2.0.7)\n",
      "Requirement already satisfied: certifi>=2017.4.17 in c:\\users\\nirma\\anaconda3\\lib\\site-packages (from requests<3,>=2.21.0->tensorflow-intel==2.18.0->tensorflow) (2024.2.2)\n",
      "Requirement already satisfied: markdown>=2.6.8 in c:\\users\\nirma\\anaconda3\\lib\\site-packages (from tensorboard<2.19,>=2.18->tensorflow-intel==2.18.0->tensorflow) (3.4.1)\n",
      "Requirement already satisfied: tensorboard-data-server<0.8.0,>=0.7.0 in c:\\users\\nirma\\anaconda3\\lib\\site-packages (from tensorboard<2.19,>=2.18->tensorflow-intel==2.18.0->tensorflow) (0.7.2)\n",
      "Requirement already satisfied: werkzeug>=1.0.1 in c:\\users\\nirma\\anaconda3\\lib\\site-packages (from tensorboard<2.19,>=2.18->tensorflow-intel==2.18.0->tensorflow) (2.2.3)\n",
      "Requirement already satisfied: MarkupSafe>=2.1.1 in c:\\users\\nirma\\anaconda3\\lib\\site-packages (from werkzeug>=1.0.1->tensorboard<2.19,>=2.18->tensorflow-intel==2.18.0->tensorflow) (2.1.3)\n"
     ]
    }
   ],
   "source": [
    "#!pip install --upgrade rich`tensorflow keras"
   ]
  },
  {
   "cell_type": "code",
   "execution_count": 124,
   "id": "32264d6d-a650-4aab-990e-c6073b977050",
   "metadata": {},
   "outputs": [],
   "source": [
    "import numpy as np\n",
    "import pandas as pd\n",
    "import seaborn as sns\n",
    "from sklearn.model_selection import train_test_split\n",
    "from sklearn.preprocessing import StandardScaler\n",
    "from sklearn.metrics import accuracy_score\n",
    "import tensorflow as tf\n",
    "from tensorflow.keras.models import Sequential\n",
    "from tensorflow.keras.layers import Dense,Dropout\n",
    "#from tensorflow.keras.layers import LeakyReLU"
   ]
  },
  {
   "cell_type": "code",
   "execution_count": 125,
   "id": "48b1a965-51b8-4bed-9f5b-af87d2724fb0",
   "metadata": {},
   "outputs": [],
   "source": [
    "df = pd.read_csv(r\"C:\\Users\\nirma\\Downloads\\diabetes (4).csv\")"
   ]
  },
  {
   "cell_type": "code",
   "execution_count": 126,
   "id": "4ed79977-f346-4f5d-8bca-83776d95c412",
   "metadata": {},
   "outputs": [],
   "source": [
    "data = df.drop(columns=['Age','SkinThickness','BloodPressure','BMI'],axis=1)"
   ]
  },
  {
   "cell_type": "code",
   "execution_count": 127,
   "id": "ae557aa1-533f-41b8-a61c-31e21c6c3797",
   "metadata": {},
   "outputs": [
    {
     "data": {
      "text/html": [
       "<div>\n",
       "<style scoped>\n",
       "    .dataframe tbody tr th:only-of-type {\n",
       "        vertical-align: middle;\n",
       "    }\n",
       "\n",
       "    .dataframe tbody tr th {\n",
       "        vertical-align: top;\n",
       "    }\n",
       "\n",
       "    .dataframe thead th {\n",
       "        text-align: right;\n",
       "    }\n",
       "</style>\n",
       "<table border=\"1\" class=\"dataframe\">\n",
       "  <thead>\n",
       "    <tr style=\"text-align: right;\">\n",
       "      <th></th>\n",
       "      <th>Pregnancies</th>\n",
       "      <th>Glucose</th>\n",
       "      <th>Insulin</th>\n",
       "      <th>DiabetesPedigreeFunction</th>\n",
       "      <th>Outcome</th>\n",
       "    </tr>\n",
       "  </thead>\n",
       "  <tbody>\n",
       "    <tr>\n",
       "      <th>0</th>\n",
       "      <td>6</td>\n",
       "      <td>148</td>\n",
       "      <td>0</td>\n",
       "      <td>0.627</td>\n",
       "      <td>1</td>\n",
       "    </tr>\n",
       "    <tr>\n",
       "      <th>1</th>\n",
       "      <td>1</td>\n",
       "      <td>85</td>\n",
       "      <td>0</td>\n",
       "      <td>0.351</td>\n",
       "      <td>0</td>\n",
       "    </tr>\n",
       "    <tr>\n",
       "      <th>2</th>\n",
       "      <td>8</td>\n",
       "      <td>183</td>\n",
       "      <td>0</td>\n",
       "      <td>0.672</td>\n",
       "      <td>1</td>\n",
       "    </tr>\n",
       "    <tr>\n",
       "      <th>3</th>\n",
       "      <td>1</td>\n",
       "      <td>89</td>\n",
       "      <td>94</td>\n",
       "      <td>0.167</td>\n",
       "      <td>0</td>\n",
       "    </tr>\n",
       "    <tr>\n",
       "      <th>4</th>\n",
       "      <td>0</td>\n",
       "      <td>137</td>\n",
       "      <td>168</td>\n",
       "      <td>2.288</td>\n",
       "      <td>1</td>\n",
       "    </tr>\n",
       "  </tbody>\n",
       "</table>\n",
       "</div>"
      ],
      "text/plain": [
       "   Pregnancies  Glucose  Insulin  DiabetesPedigreeFunction  Outcome\n",
       "0            6      148        0                     0.627        1\n",
       "1            1       85        0                     0.351        0\n",
       "2            8      183        0                     0.672        1\n",
       "3            1       89       94                     0.167        0\n",
       "4            0      137      168                     2.288        1"
      ]
     },
     "execution_count": 127,
     "metadata": {},
     "output_type": "execute_result"
    }
   ],
   "source": [
    "data.head()"
   ]
  },
  {
   "cell_type": "code",
   "execution_count": 128,
   "id": "eb0ffa9f-401b-46b1-9cad-915e5b767043",
   "metadata": {},
   "outputs": [
    {
     "data": {
      "text/plain": [
       "Index(['Pregnancies', 'Glucose', 'Insulin', 'DiabetesPedigreeFunction',\n",
       "       'Outcome'],\n",
       "      dtype='object')"
      ]
     },
     "execution_count": 128,
     "metadata": {},
     "output_type": "execute_result"
    }
   ],
   "source": [
    "data.columns"
   ]
  },
  {
   "cell_type": "code",
   "execution_count": 129,
   "id": "b7368846-3af0-4d3b-9f58-074b32a157e3",
   "metadata": {},
   "outputs": [
    {
     "data": {
      "text/plain": [
       "(768, 5)"
      ]
     },
     "execution_count": 129,
     "metadata": {},
     "output_type": "execute_result"
    }
   ],
   "source": [
    "data.shape"
   ]
  },
  {
   "cell_type": "code",
   "execution_count": 130,
   "id": "1d4bd440-f6bd-48e1-8fc3-ec5027bfb969",
   "metadata": {},
   "outputs": [
    {
     "name": "stdout",
     "output_type": "stream",
     "text": [
      "<class 'pandas.core.frame.DataFrame'>\n",
      "RangeIndex: 768 entries, 0 to 767\n",
      "Data columns (total 5 columns):\n",
      " #   Column                    Non-Null Count  Dtype  \n",
      "---  ------                    --------------  -----  \n",
      " 0   Pregnancies               768 non-null    int64  \n",
      " 1   Glucose                   768 non-null    int64  \n",
      " 2   Insulin                   768 non-null    int64  \n",
      " 3   DiabetesPedigreeFunction  768 non-null    float64\n",
      " 4   Outcome                   768 non-null    int64  \n",
      "dtypes: float64(1), int64(4)\n",
      "memory usage: 30.1 KB\n"
     ]
    }
   ],
   "source": [
    "data.info()"
   ]
  },
  {
   "cell_type": "code",
   "execution_count": 131,
   "id": "37535e95-c608-45b9-aafd-84030d62ca2b",
   "metadata": {},
   "outputs": [
    {
     "data": {
      "text/html": [
       "<div>\n",
       "<style scoped>\n",
       "    .dataframe tbody tr th:only-of-type {\n",
       "        vertical-align: middle;\n",
       "    }\n",
       "\n",
       "    .dataframe tbody tr th {\n",
       "        vertical-align: top;\n",
       "    }\n",
       "\n",
       "    .dataframe thead th {\n",
       "        text-align: right;\n",
       "    }\n",
       "</style>\n",
       "<table border=\"1\" class=\"dataframe\">\n",
       "  <thead>\n",
       "    <tr style=\"text-align: right;\">\n",
       "      <th></th>\n",
       "      <th>Pregnancies</th>\n",
       "      <th>Glucose</th>\n",
       "      <th>Insulin</th>\n",
       "      <th>DiabetesPedigreeFunction</th>\n",
       "      <th>Outcome</th>\n",
       "    </tr>\n",
       "  </thead>\n",
       "  <tbody>\n",
       "    <tr>\n",
       "      <th>count</th>\n",
       "      <td>768.000000</td>\n",
       "      <td>768.000000</td>\n",
       "      <td>768.000000</td>\n",
       "      <td>768.000000</td>\n",
       "      <td>768.000000</td>\n",
       "    </tr>\n",
       "    <tr>\n",
       "      <th>mean</th>\n",
       "      <td>3.845052</td>\n",
       "      <td>120.894531</td>\n",
       "      <td>79.799479</td>\n",
       "      <td>0.471876</td>\n",
       "      <td>0.348958</td>\n",
       "    </tr>\n",
       "    <tr>\n",
       "      <th>std</th>\n",
       "      <td>3.369578</td>\n",
       "      <td>31.972618</td>\n",
       "      <td>115.244002</td>\n",
       "      <td>0.331329</td>\n",
       "      <td>0.476951</td>\n",
       "    </tr>\n",
       "    <tr>\n",
       "      <th>min</th>\n",
       "      <td>0.000000</td>\n",
       "      <td>0.000000</td>\n",
       "      <td>0.000000</td>\n",
       "      <td>0.078000</td>\n",
       "      <td>0.000000</td>\n",
       "    </tr>\n",
       "    <tr>\n",
       "      <th>25%</th>\n",
       "      <td>1.000000</td>\n",
       "      <td>99.000000</td>\n",
       "      <td>0.000000</td>\n",
       "      <td>0.243750</td>\n",
       "      <td>0.000000</td>\n",
       "    </tr>\n",
       "    <tr>\n",
       "      <th>50%</th>\n",
       "      <td>3.000000</td>\n",
       "      <td>117.000000</td>\n",
       "      <td>30.500000</td>\n",
       "      <td>0.372500</td>\n",
       "      <td>0.000000</td>\n",
       "    </tr>\n",
       "    <tr>\n",
       "      <th>75%</th>\n",
       "      <td>6.000000</td>\n",
       "      <td>140.250000</td>\n",
       "      <td>127.250000</td>\n",
       "      <td>0.626250</td>\n",
       "      <td>1.000000</td>\n",
       "    </tr>\n",
       "    <tr>\n",
       "      <th>max</th>\n",
       "      <td>17.000000</td>\n",
       "      <td>199.000000</td>\n",
       "      <td>846.000000</td>\n",
       "      <td>2.420000</td>\n",
       "      <td>1.000000</td>\n",
       "    </tr>\n",
       "  </tbody>\n",
       "</table>\n",
       "</div>"
      ],
      "text/plain": [
       "       Pregnancies     Glucose     Insulin  DiabetesPedigreeFunction  \\\n",
       "count   768.000000  768.000000  768.000000                768.000000   \n",
       "mean      3.845052  120.894531   79.799479                  0.471876   \n",
       "std       3.369578   31.972618  115.244002                  0.331329   \n",
       "min       0.000000    0.000000    0.000000                  0.078000   \n",
       "25%       1.000000   99.000000    0.000000                  0.243750   \n",
       "50%       3.000000  117.000000   30.500000                  0.372500   \n",
       "75%       6.000000  140.250000  127.250000                  0.626250   \n",
       "max      17.000000  199.000000  846.000000                  2.420000   \n",
       "\n",
       "          Outcome  \n",
       "count  768.000000  \n",
       "mean     0.348958  \n",
       "std      0.476951  \n",
       "min      0.000000  \n",
       "25%      0.000000  \n",
       "50%      0.000000  \n",
       "75%      1.000000  \n",
       "max      1.000000  "
      ]
     },
     "execution_count": 131,
     "metadata": {},
     "output_type": "execute_result"
    }
   ],
   "source": [
    "data.describe()"
   ]
  },
  {
   "cell_type": "code",
   "execution_count": 132,
   "id": "61bbbade-4ca8-4fa1-98ba-8554d4967b42",
   "metadata": {},
   "outputs": [
    {
     "data": {
      "text/plain": [
       "Pregnancies                 0\n",
       "Glucose                     0\n",
       "Insulin                     0\n",
       "DiabetesPedigreeFunction    0\n",
       "Outcome                     0\n",
       "dtype: int64"
      ]
     },
     "execution_count": 132,
     "metadata": {},
     "output_type": "execute_result"
    }
   ],
   "source": [
    "data.isnull().sum()"
   ]
  },
  {
   "cell_type": "code",
   "execution_count": 133,
   "id": "0ef14b2d-3a32-4c58-bbe3-a1ef3f22ab2b",
   "metadata": {},
   "outputs": [
    {
     "data": {
      "text/plain": [
       "Outcome\n",
       "0    500\n",
       "1    268\n",
       "Name: count, dtype: int64"
      ]
     },
     "execution_count": 133,
     "metadata": {},
     "output_type": "execute_result"
    }
   ],
   "source": [
    "data['Outcome'].value_counts()"
   ]
  },
  {
   "cell_type": "code",
   "execution_count": 134,
   "id": "7b1b0544-0393-47af-9d24-4fb7a5566901",
   "metadata": {},
   "outputs": [
    {
     "data": {
      "text/plain": [
       "0"
      ]
     },
     "execution_count": 134,
     "metadata": {},
     "output_type": "execute_result"
    }
   ],
   "source": [
    "data.duplicated().sum()"
   ]
  },
  {
   "cell_type": "code",
   "execution_count": 135,
   "id": "a8671500-a5cc-4bf8-82fb-ced71dce340b",
   "metadata": {},
   "outputs": [
    {
     "data": {
      "text/plain": [
       "<Axes: >"
      ]
     },
     "execution_count": 135,
     "metadata": {},
     "output_type": "execute_result"
    },
    {
     "data": {
      "image/png": "[encoded data removed]",
      "text/plain": [
       "<Figure size 640x480 with 2 Axes>"
      ]
     },
     "metadata": {},
     "output_type": "display_data"
    }
   ],
   "source": [
    "sns.heatmap(data.corr(),annot=True,cmap='Greens')"
   ]
  },
  {
   "cell_type": "code",
   "execution_count": 136,
   "id": "42b5e63b-804d-46e6-b6f8-436447675db2",
   "metadata": {},
   "outputs": [
    {
     "data": {
      "text/html": [
       "<div>\n",
       "<style scoped>\n",
       "    .dataframe tbody tr th:only-of-type {\n",
       "        vertical-align: middle;\n",
       "    }\n",
       "\n",
       "    .dataframe tbody tr th {\n",
       "        vertical-align: top;\n",
       "    }\n",
       "\n",
       "    .dataframe thead th {\n",
       "        text-align: right;\n",
       "    }\n",
       "</style>\n",
       "<table border=\"1\" class=\"dataframe\">\n",
       "  <thead>\n",
       "    <tr style=\"text-align: right;\">\n",
       "      <th></th>\n",
       "      <th>Pregnancies</th>\n",
       "      <th>Glucose</th>\n",
       "      <th>Insulin</th>\n",
       "      <th>DiabetesPedigreeFunction</th>\n",
       "      <th>Outcome</th>\n",
       "    </tr>\n",
       "  </thead>\n",
       "  <tbody>\n",
       "    <tr>\n",
       "      <th>0</th>\n",
       "      <td>6</td>\n",
       "      <td>148</td>\n",
       "      <td>0</td>\n",
       "      <td>0.627</td>\n",
       "      <td>1</td>\n",
       "    </tr>\n",
       "    <tr>\n",
       "      <th>1</th>\n",
       "      <td>1</td>\n",
       "      <td>85</td>\n",
       "      <td>0</td>\n",
       "      <td>0.351</td>\n",
       "      <td>0</td>\n",
       "    </tr>\n",
       "    <tr>\n",
       "      <th>2</th>\n",
       "      <td>8</td>\n",
       "      <td>183</td>\n",
       "      <td>0</td>\n",
       "      <td>0.672</td>\n",
       "      <td>1</td>\n",
       "    </tr>\n",
       "    <tr>\n",
       "      <th>3</th>\n",
       "      <td>1</td>\n",
       "      <td>89</td>\n",
       "      <td>94</td>\n",
       "      <td>0.167</td>\n",
       "      <td>0</td>\n",
       "    </tr>\n",
       "    <tr>\n",
       "      <th>4</th>\n",
       "      <td>0</td>\n",
       "      <td>137</td>\n",
       "      <td>168</td>\n",
       "      <td>2.288</td>\n",
       "      <td>1</td>\n",
       "    </tr>\n",
       "    <tr>\n",
       "      <th>...</th>\n",
       "      <td>...</td>\n",
       "      <td>...</td>\n",
       "      <td>...</td>\n",
       "      <td>...</td>\n",
       "      <td>...</td>\n",
       "    </tr>\n",
       "    <tr>\n",
       "      <th>763</th>\n",
       "      <td>10</td>\n",
       "      <td>101</td>\n",
       "      <td>180</td>\n",
       "      <td>0.171</td>\n",
       "      <td>0</td>\n",
       "    </tr>\n",
       "    <tr>\n",
       "      <th>764</th>\n",
       "      <td>2</td>\n",
       "      <td>122</td>\n",
       "      <td>0</td>\n",
       "      <td>0.340</td>\n",
       "      <td>0</td>\n",
       "    </tr>\n",
       "    <tr>\n",
       "      <th>765</th>\n",
       "      <td>5</td>\n",
       "      <td>121</td>\n",
       "      <td>112</td>\n",
       "      <td>0.245</td>\n",
       "      <td>0</td>\n",
       "    </tr>\n",
       "    <tr>\n",
       "      <th>766</th>\n",
       "      <td>1</td>\n",
       "      <td>126</td>\n",
       "      <td>0</td>\n",
       "      <td>0.349</td>\n",
       "      <td>1</td>\n",
       "    </tr>\n",
       "    <tr>\n",
       "      <th>767</th>\n",
       "      <td>1</td>\n",
       "      <td>93</td>\n",
       "      <td>0</td>\n",
       "      <td>0.315</td>\n",
       "      <td>0</td>\n",
       "    </tr>\n",
       "  </tbody>\n",
       "</table>\n",
       "<p>768 rows × 5 columns</p>\n",
       "</div>"
      ],
      "text/plain": [
       "     Pregnancies  Glucose  Insulin  DiabetesPedigreeFunction  Outcome\n",
       "0              6      148        0                     0.627        1\n",
       "1              1       85        0                     0.351        0\n",
       "2              8      183        0                     0.672        1\n",
       "3              1       89       94                     0.167        0\n",
       "4              0      137      168                     2.288        1\n",
       "..           ...      ...      ...                       ...      ...\n",
       "763           10      101      180                     0.171        0\n",
       "764            2      122        0                     0.340        0\n",
       "765            5      121      112                     0.245        0\n",
       "766            1      126        0                     0.349        1\n",
       "767            1       93        0                     0.315        0\n",
       "\n",
       "[768 rows x 5 columns]"
      ]
     },
     "execution_count": 136,
     "metadata": {},
     "output_type": "execute_result"
    }
   ],
   "source": [
    "data.drop_duplicates()\n"
   ]
  },
  {
   "cell_type": "code",
   "execution_count": 137,
   "id": "fb81ecb4-b8d5-4706-9857-4b63794db606",
   "metadata": {},
   "outputs": [
    {
     "data": {
      "text/html": [
       "<div>\n",
       "<style scoped>\n",
       "    .dataframe tbody tr th:only-of-type {\n",
       "        vertical-align: middle;\n",
       "    }\n",
       "\n",
       "    .dataframe tbody tr th {\n",
       "        vertical-align: top;\n",
       "    }\n",
       "\n",
       "    .dataframe thead th {\n",
       "        text-align: right;\n",
       "    }\n",
       "</style>\n",
       "<table border=\"1\" class=\"dataframe\">\n",
       "  <thead>\n",
       "    <tr style=\"text-align: right;\">\n",
       "      <th></th>\n",
       "      <th>Pregnancies</th>\n",
       "      <th>Glucose</th>\n",
       "      <th>Insulin</th>\n",
       "      <th>DiabetesPedigreeFunction</th>\n",
       "      <th>Outcome</th>\n",
       "    </tr>\n",
       "  </thead>\n",
       "  <tbody>\n",
       "    <tr>\n",
       "      <th>count</th>\n",
       "      <td>768.000000</td>\n",
       "      <td>768.000000</td>\n",
       "      <td>768.000000</td>\n",
       "      <td>768.000000</td>\n",
       "      <td>768.000000</td>\n",
       "    </tr>\n",
       "    <tr>\n",
       "      <th>mean</th>\n",
       "      <td>3.845052</td>\n",
       "      <td>120.894531</td>\n",
       "      <td>79.799479</td>\n",
       "      <td>0.471876</td>\n",
       "      <td>0.348958</td>\n",
       "    </tr>\n",
       "    <tr>\n",
       "      <th>std</th>\n",
       "      <td>3.369578</td>\n",
       "      <td>31.972618</td>\n",
       "      <td>115.244002</td>\n",
       "      <td>0.331329</td>\n",
       "      <td>0.476951</td>\n",
       "    </tr>\n",
       "    <tr>\n",
       "      <th>min</th>\n",
       "      <td>0.000000</td>\n",
       "      <td>0.000000</td>\n",
       "      <td>0.000000</td>\n",
       "      <td>0.078000</td>\n",
       "      <td>0.000000</td>\n",
       "    </tr>\n",
       "    <tr>\n",
       "      <th>25%</th>\n",
       "      <td>1.000000</td>\n",
       "      <td>99.000000</td>\n",
       "      <td>0.000000</td>\n",
       "      <td>0.243750</td>\n",
       "      <td>0.000000</td>\n",
       "    </tr>\n",
       "    <tr>\n",
       "      <th>50%</th>\n",
       "      <td>3.000000</td>\n",
       "      <td>117.000000</td>\n",
       "      <td>30.500000</td>\n",
       "      <td>0.372500</td>\n",
       "      <td>0.000000</td>\n",
       "    </tr>\n",
       "    <tr>\n",
       "      <th>75%</th>\n",
       "      <td>6.000000</td>\n",
       "      <td>140.250000</td>\n",
       "      <td>127.250000</td>\n",
       "      <td>0.626250</td>\n",
       "      <td>1.000000</td>\n",
       "    </tr>\n",
       "    <tr>\n",
       "      <th>max</th>\n",
       "      <td>17.000000</td>\n",
       "      <td>199.000000</td>\n",
       "      <td>846.000000</td>\n",
       "      <td>2.420000</td>\n",
       "      <td>1.000000</td>\n",
       "    </tr>\n",
       "  </tbody>\n",
       "</table>\n",
       "</div>"
      ],
      "text/plain": [
       "       Pregnancies     Glucose     Insulin  DiabetesPedigreeFunction  \\\n",
       "count   768.000000  768.000000  768.000000                768.000000   \n",
       "mean      3.845052  120.894531   79.799479                  0.471876   \n",
       "std       3.369578   31.972618  115.244002                  0.331329   \n",
       "min       0.000000    0.000000    0.000000                  0.078000   \n",
       "25%       1.000000   99.000000    0.000000                  0.243750   \n",
       "50%       3.000000  117.000000   30.500000                  0.372500   \n",
       "75%       6.000000  140.250000  127.250000                  0.626250   \n",
       "max      17.000000  199.000000  846.000000                  2.420000   \n",
       "\n",
       "          Outcome  \n",
       "count  768.000000  \n",
       "mean     0.348958  \n",
       "std      0.476951  \n",
       "min      0.000000  \n",
       "25%      0.000000  \n",
       "50%      0.000000  \n",
       "75%      1.000000  \n",
       "max      1.000000  "
      ]
     },
     "execution_count": 137,
     "metadata": {},
     "output_type": "execute_result"
    }
   ],
   "source": [
    "data.describe()"
   ]
  },
  {
   "cell_type": "code",
   "execution_count": 138,
   "id": "21689d66-6df9-40eb-af49-ad928874182c",
   "metadata": {},
   "outputs": [],
   "source": [
    "x = data.drop(columns=['Outcome'],axis=1)\n",
    "y = data['Outcome']"
   ]
  },
  {
   "cell_type": "code",
   "execution_count": 139,
   "id": "8fdfa465-88ac-4f5b-80f6-a6cac209fb3d",
   "metadata": {},
   "outputs": [
    {
     "data": {
      "text/html": [
       "<div>\n",
       "<style scoped>\n",
       "    .dataframe tbody tr th:only-of-type {\n",
       "        vertical-align: middle;\n",
       "    }\n",
       "\n",
       "    .dataframe tbody tr th {\n",
       "        vertical-align: top;\n",
       "    }\n",
       "\n",
       "    .dataframe thead th {\n",
       "        text-align: right;\n",
       "    }\n",
       "</style>\n",
       "<table border=\"1\" class=\"dataframe\">\n",
       "  <thead>\n",
       "    <tr style=\"text-align: right;\">\n",
       "      <th></th>\n",
       "      <th>Pregnancies</th>\n",
       "      <th>Glucose</th>\n",
       "      <th>Insulin</th>\n",
       "      <th>DiabetesPedigreeFunction</th>\n",
       "    </tr>\n",
       "  </thead>\n",
       "  <tbody>\n",
       "    <tr>\n",
       "      <th>0</th>\n",
       "      <td>6</td>\n",
       "      <td>148</td>\n",
       "      <td>0</td>\n",
       "      <td>0.627</td>\n",
       "    </tr>\n",
       "    <tr>\n",
       "      <th>1</th>\n",
       "      <td>1</td>\n",
       "      <td>85</td>\n",
       "      <td>0</td>\n",
       "      <td>0.351</td>\n",
       "    </tr>\n",
       "    <tr>\n",
       "      <th>2</th>\n",
       "      <td>8</td>\n",
       "      <td>183</td>\n",
       "      <td>0</td>\n",
       "      <td>0.672</td>\n",
       "    </tr>\n",
       "    <tr>\n",
       "      <th>3</th>\n",
       "      <td>1</td>\n",
       "      <td>89</td>\n",
       "      <td>94</td>\n",
       "      <td>0.167</td>\n",
       "    </tr>\n",
       "    <tr>\n",
       "      <th>4</th>\n",
       "      <td>0</td>\n",
       "      <td>137</td>\n",
       "      <td>168</td>\n",
       "      <td>2.288</td>\n",
       "    </tr>\n",
       "    <tr>\n",
       "      <th>...</th>\n",
       "      <td>...</td>\n",
       "      <td>...</td>\n",
       "      <td>...</td>\n",
       "      <td>...</td>\n",
       "    </tr>\n",
       "    <tr>\n",
       "      <th>763</th>\n",
       "      <td>10</td>\n",
       "      <td>101</td>\n",
       "      <td>180</td>\n",
       "      <td>0.171</td>\n",
       "    </tr>\n",
       "    <tr>\n",
       "      <th>764</th>\n",
       "      <td>2</td>\n",
       "      <td>122</td>\n",
       "      <td>0</td>\n",
       "      <td>0.340</td>\n",
       "    </tr>\n",
       "    <tr>\n",
       "      <th>765</th>\n",
       "      <td>5</td>\n",
       "      <td>121</td>\n",
       "      <td>112</td>\n",
       "      <td>0.245</td>\n",
       "    </tr>\n",
       "    <tr>\n",
       "      <th>766</th>\n",
       "      <td>1</td>\n",
       "      <td>126</td>\n",
       "      <td>0</td>\n",
       "      <td>0.349</td>\n",
       "    </tr>\n",
       "    <tr>\n",
       "      <th>767</th>\n",
       "      <td>1</td>\n",
       "      <td>93</td>\n",
       "      <td>0</td>\n",
       "      <td>0.315</td>\n",
       "    </tr>\n",
       "  </tbody>\n",
       "</table>\n",
       "<p>768 rows × 4 columns</p>\n",
       "</div>"
      ],
      "text/plain": [
       "     Pregnancies  Glucose  Insulin  DiabetesPedigreeFunction\n",
       "0              6      148        0                     0.627\n",
       "1              1       85        0                     0.351\n",
       "2              8      183        0                     0.672\n",
       "3              1       89       94                     0.167\n",
       "4              0      137      168                     2.288\n",
       "..           ...      ...      ...                       ...\n",
       "763           10      101      180                     0.171\n",
       "764            2      122        0                     0.340\n",
       "765            5      121      112                     0.245\n",
       "766            1      126        0                     0.349\n",
       "767            1       93        0                     0.315\n",
       "\n",
       "[768 rows x 4 columns]"
      ]
     },
     "execution_count": 139,
     "metadata": {},
     "output_type": "execute_result"
    }
   ],
   "source": [
    "x"
   ]
  },
  {
   "cell_type": "code",
   "execution_count": 140,
   "id": "9f05cc31-c7c6-4e08-b6d7-4131d2f66569",
   "metadata": {},
   "outputs": [
    {
     "data": {
      "text/plain": [
       "0      1\n",
       "1      0\n",
       "2      1\n",
       "3      0\n",
       "4      1\n",
       "      ..\n",
       "763    0\n",
       "764    0\n",
       "765    0\n",
       "766    1\n",
       "767    0\n",
       "Name: Outcome, Length: 768, dtype: int64"
      ]
     },
     "execution_count": 140,
     "metadata": {},
     "output_type": "execute_result"
    }
   ],
   "source": [
    "y"
   ]
  },
  {
   "cell_type": "code",
   "execution_count": 141,
   "id": "ff283134-1362-453d-b79a-69c419d9602a",
   "metadata": {},
   "outputs": [],
   "source": [
    "x = data.iloc[:,:-1]\n",
    "y = data.iloc[:,-1]"
   ]
  },
  {
   "cell_type": "code",
   "execution_count": 142,
   "id": "32fc2fd2-7291-4174-bb17-f8a93540ff5b",
   "metadata": {},
   "outputs": [],
   "source": [
    "x_train, x_test, y_train, y_test = train_test_split(x,y,test_size=0.2,random_state=0)"
   ]
  },
  {
   "cell_type": "code",
   "execution_count": 143,
   "id": "62a5b220-5e30-415b-915f-204234f43058",
   "metadata": {},
   "outputs": [
    {
     "data": {
      "text/plain": [
       "((768, 4), (614, 4), (154, 4))"
      ]
     },
     "execution_count": 143,
     "metadata": {},
     "output_type": "execute_result"
    }
   ],
   "source": [
    "x.shape,x_train.shape,x_test.shape"
   ]
  },
  {
   "cell_type": "code",
   "execution_count": 144,
   "id": "175ecf62-3c57-441f-abfb-a81c60bb3938",
   "metadata": {},
   "outputs": [],
   "source": [
    "from sklearn.preprocessing import StandardScaler\n",
    "\n",
    "scaler = StandardScaler()\n",
    "x_train = scaler.fit_transform(x_train)\n",
    "x_test = scaler.transform(x_test)\n"
   ]
  },
  {
   "cell_type": "code",
   "execution_count": 145,
   "id": "4778d152-4a9f-440f-a784-9af47f82d56b",
   "metadata": {},
   "outputs": [
    {
     "data": {
      "text/plain": [
       "array([[ 0.90832902,  0.91569367,  0.3736349 ,  0.67740401],\n",
       "       [ 0.03644676, -0.75182191, -0.69965674, -0.07049698],\n",
       "       [-1.12606292,  1.38763205,  5.09271083, -0.11855487],\n",
       "       ...,\n",
       "       [ 0.03644676, -0.84620959, -0.69965674, -0.95656442],\n",
       "       [ 2.0708387 , -1.12937261, -0.69965674, -0.50001442],\n",
       "       [ 0.32707418,  0.47521786, -0.69965674,  0.52121586]])"
      ]
     },
     "execution_count": 145,
     "metadata": {},
     "output_type": "execute_result"
    }
   ],
   "source": [
    "x_train"
   ]
  },
  {
   "cell_type": "code",
   "execution_count": 146,
   "id": "738a8a30-3d4e-40ca-a4c5-2625f9b58878",
   "metadata": {},
   "outputs": [
    {
     "data": {
      "text/plain": [
       "array([[-8.35435497e-01,  2.45735903e+00, -6.99656737e-01,\n",
       "         2.78594417e+00],\n",
       "       [-5.44808078e-01, -4.37196330e-01,  1.52162022e-01,\n",
       "        -1.87638099e-01],\n",
       "       [ 3.64467611e-02, -1.41253563e+00, -6.99656737e-01,\n",
       "        -2.26685139e-01],\n",
       "       [ 3.27074180e-01,  1.41909460e+00,  7.91026091e-01,\n",
       "         3.62024077e-01],\n",
       "       [-1.12606292e+00, -3.11346097e-01, -6.99656737e-01,\n",
       "         5.81288224e-01],\n",
       "       [-8.35435497e-01, -1.25522284e+00, -3.58929234e-01,\n",
       "        -5.51075932e-01],\n",
       "       [ 1.48958386e+00,  9.78618790e-01,  7.56953341e-01,\n",
       "         1.28113132e+00],\n",
       "       [-2.54180658e-01,  1.73372019e+00,  6.29180527e-01,\n",
       "         2.06507574e+00],\n",
       "       [-5.44808078e-01,  1.92054834e-01,  1.64284485e+00,\n",
       "         3.40468957e+00],\n",
       "       [ 6.17701600e-01, -5.63046563e-01,  9.18798905e-01,\n",
       "        -4.27927575e-01],\n",
       "       [-2.54180658e-01,  1.16739414e+00,  1.38729922e+00,\n",
       "         1.15497935e+00],\n",
       "       [ 3.27074180e-01,  2.07980833e+00,  1.06360809e+00,\n",
       "         1.70464153e+00],\n",
       "       [ 3.27074180e-01, -2.16958423e-01, -6.99656737e-01,\n",
       "         8.33592174e-01],\n",
       "       [-5.44808078e-01, -1.22376029e+00,  2.79934836e-01,\n",
       "         3.70204780e+00],\n",
       "       [ 1.19895644e+00, -1.75862378e+00, -6.99656737e-01,\n",
       "         4.01071117e-01],\n",
       "       [-1.12606292e+00, -4.05733772e-01, -6.99656737e-01,\n",
       "         9.62747768e-01],\n",
       "       [ 1.19895644e+00,  1.82810786e+00,  4.07707650e-01,\n",
       "         7.58501713e-01],\n",
       "       [-8.35435497e-01, -1.50692331e+00, -6.99656737e-01,\n",
       "        -6.56202578e-01],\n",
       "       [ 3.64467611e-02,  3.49367625e-01, -6.99656737e-01,\n",
       "        -1.42583822e-01],\n",
       "       [ 3.27074180e-01, -6.88896796e-01,  7.35283294e-03,\n",
       "         9.77056536e-02],\n",
       "       [ 3.64467611e-02,  7.26918324e-01, -6.99656737e-01,\n",
       "         2.62904668e-01],\n",
       "       [-5.44808078e-01, -9.11081898e-02, -6.99656737e-01,\n",
       "         6.80407633e-01],\n",
       "       [-5.44808078e-01, -1.06644749e+00, -6.99656737e-01,\n",
       "         9.20697109e-01],\n",
       "       [-2.54180658e-01, -1.88447401e+00, -6.99656737e-01,\n",
       "        -6.71220670e-01],\n",
       "       [-8.35435497e-01, -7.51821912e-01,  4.92889526e-01,\n",
       "         6.16622322e-02],\n",
       "       [-8.35435497e-01,  9.76671596e-02, -6.99656737e-01,\n",
       "         1.42759930e-01],\n",
       "       [-1.12606292e+00, -5.31584005e-01, -6.99656737e-01,\n",
       "         3.47005985e-01],\n",
       "       [ 2.65209354e+00,  1.01008135e+00,  4.92889526e-01,\n",
       "         2.12514811e+00],\n",
       "       [-5.44808078e-01, -2.79883539e-01, -6.99656737e-01,\n",
       "        -4.78989089e-01],\n",
       "       [ 3.27074180e-01, -3.42808656e-01, -6.99656737e-01,\n",
       "        -5.24043366e-01],\n",
       "       [ 9.08329019e-01,  4.75217858e-01,  4.50298588e-01,\n",
       "         5.42241184e-01],\n",
       "       [-1.12606292e+00, -5.94509121e-01, -3.52381050e-02,\n",
       "         8.86947983e-02],\n",
       "       [-1.12606292e+00, -5.94509121e-01,  1.94752960e-01,\n",
       "         6.86414870e-01],\n",
       "       [-5.44808078e-01,  3.47420431e-02,  6.46216902e-01,\n",
       "         1.04985270e+00],\n",
       "       [-8.35435497e-01, -5.96456315e-02, -2.73747358e-01,\n",
       "        -7.85358171e-01],\n",
       "       [ 3.27074180e-01,  1.48201972e+00, -6.99656737e-01,\n",
       "        -9.95611463e-01],\n",
       "       [ 2.07083870e+00,  4.75217858e-01,  4.07707650e-01,\n",
       "        -6.20159156e-01],\n",
       "       [-5.44808078e-01, -1.22570748e-01, -9.48654182e-02,\n",
       "        -4.60967378e-01],\n",
       "       [-8.35435497e-01, -5.96456315e-02, -1.63010919e-01,\n",
       "        -5.60086787e-01],\n",
       "       [-2.54180658e-01,  1.85957042e+00, -1.03383606e-01,\n",
       "        -5.87119353e-01],\n",
       "       [-1.12606292e+00, -5.96456315e-02,  8.40165213e-02,\n",
       "         7.76523424e-01],\n",
       "       [-2.54180658e-01, -9.72059820e-01, -6.99656737e-01,\n",
       "         2.77922761e-01],\n",
       "       [ 6.17701600e-01, -6.88896796e-01, -2.39674607e-01,\n",
       "         9.16984167e-02],\n",
       "       [-2.54180658e-01,  2.26858368e+00, -6.99656737e-01,\n",
       "        -6.77227907e-01],\n",
       "       [-5.44808078e-01,  2.39443391e+00,  3.92571913e+00,\n",
       "        -9.26528238e-01],\n",
       "       [-1.12606292e+00, -5.94509121e-01, -6.99656737e-01,\n",
       "         3.16969801e-01],\n",
       "       [-5.44808078e-01, -4.05733772e-01, -2.22638232e-01,\n",
       "        -1.01663679e+00],\n",
       "       [-2.54180658e-01,  2.54979951e-01,  2.79934836e-01,\n",
       "        -7.43307513e-01],\n",
       "       [ 3.64467611e-02, -3.74271214e-01,  1.43643834e-01,\n",
       "         1.31717474e+00],\n",
       "       [ 3.64467611e-02,  1.29129718e-01, -6.99656737e-01,\n",
       "         2.08839536e-01],\n",
       "       [ 1.78021128e+00,  3.80830184e-01, -6.99656737e-01,\n",
       "        -6.65213433e-01],\n",
       "       [-5.44808078e-01, -4.05733772e-01, -1.63010919e-01,\n",
       "        -4.45949286e-01],\n",
       "       [ 2.36146612e+00,  9.47156231e-01,  1.60877210e+00,\n",
       "         8.27584937e-01],\n",
       "       [ 9.08329019e-01,  5.06680416e-01, -6.99656737e-01,\n",
       "        -2.26685139e-01],\n",
       "       [-1.12606292e+00, -9.40597262e-01,  1.08916266e+00,\n",
       "        -2.56721324e-01],\n",
       "       [-8.35435497e-01, -3.80369006e+00, -6.99656737e-01,\n",
       "        -9.80593370e-01],\n",
       "       [-8.35435497e-01, -1.12937261e+00, -6.99656737e-01,\n",
       "        -3.46829877e-01],\n",
       "       [ 3.27074180e-01, -1.85495864e-01, -6.99656737e-01,\n",
       "        -7.73343697e-01],\n",
       "       [-5.44808078e-01,  4.12292742e-01, -6.99656737e-01,\n",
       "         2.26861247e-01],\n",
       "       [ 1.78021128e+00, -1.85495864e-01, -6.99656737e-01,\n",
       "        -6.17155538e-01],\n",
       "       [ 1.19895644e+00,  1.45055716e+00,  1.26804460e+00,\n",
       "        -9.05502909e-01],\n",
       "       [ 3.64467611e-02,  8.21305999e-01,  1.79617223e+00,\n",
       "        -2.44706850e-01],\n",
       "       [-1.12606292e+00,  1.29129718e-01, -6.99656737e-01,\n",
       "        -7.82354553e-01],\n",
       "       [-1.12606292e+00,  5.38142975e-01, -6.99656737e-01,\n",
       "         1.40127606e+00],\n",
       "       [-2.54180658e-01,  1.92249554e+00, -6.99656737e-01,\n",
       "        -3.64851588e-01],\n",
       "       [ 1.19895644e+00,  2.39443391e+00, -6.99656737e-01,\n",
       "         2.17620962e+00],\n",
       "       [ 1.48958386e+00,  1.38763205e+00, -6.99656737e-01,\n",
       "        -4.94007181e-01],\n",
       "       [-2.54180658e-01,  3.47420431e-02, -6.99656737e-01,\n",
       "        -6.38180867e-01],\n",
       "       [ 1.48958386e+00, -4.68658888e-01, -6.99656737e-01,\n",
       "        -2.59724942e-01],\n",
       "       [ 1.48958386e+00, -1.53838587e+00, -6.99656737e-01,\n",
       "        -5.60086787e-01],\n",
       "       [-5.44808078e-01, -4.05733772e-01, -6.99656737e-01,\n",
       "        -9.26528238e-01],\n",
       "       [ 9.08329019e-01, -5.96456315e-02, -6.99656737e-01,\n",
       "        -7.73343697e-01],\n",
       "       [-1.12606292e+00, -1.09791005e+00, -6.99656737e-01,\n",
       "        -6.86238762e-01],\n",
       "       [ 6.17701600e-01,  1.95395809e+00, -6.99656737e-01,\n",
       "         2.98718660e+00],\n",
       "       [ 3.64467611e-02,  1.57640740e+00, -6.99656737e-01,\n",
       "         3.76332846e-02],\n",
       "       [ 3.64467611e-02,  5.06680416e-01, -6.99656737e-01,\n",
       "        -6.44188104e-01],\n",
       "       [ 1.78021128e+00, -1.66423610e+00, -2.82265545e-01,\n",
       "        -5.45068695e-01],\n",
       "       [ 6.17701600e-01,  1.04154391e+00,  9.44353468e-01,\n",
       "         1.11893593e+00],\n",
       "       [ 3.64467611e-02, -1.19229773e+00, -6.99656737e-01,\n",
       "        -4.48952904e-01],\n",
       "       [-8.35435497e-01, -7.51821912e-01, -6.99656737e-01,\n",
       "        -7.46311131e-01],\n",
       "       [ 1.19895644e+00, -6.57434238e-01, -6.99656737e-01,\n",
       "        -8.30412448e-01],\n",
       "       [-8.35435497e-01,  4.75217858e-01,  1.03805353e+00,\n",
       "        -2.02656191e-01],\n",
       "       [-5.44808078e-01, -3.42808656e-01,  3.65116712e-01,\n",
       "         6.95425725e-01],\n",
       "       [-8.35435497e-01, -7.51821912e-01, -1.16535465e-03,\n",
       "        -5.03018037e-01],\n",
       "       [ 3.64467611e-02, -8.14747029e-01, -6.99656737e-01,\n",
       "        -5.48072313e-01],\n",
       "       [ 3.64467611e-02, -9.09134703e-01, -6.99656737e-01,\n",
       "        -6.89242381e-01],\n",
       "       [-2.54180658e-01,  5.69605533e-01, -6.99656737e-01,\n",
       "        -1.93645336e-01],\n",
       "       [-8.35435497e-01, -5.63046563e-01,  7.35283294e-03,\n",
       "        -8.51437777e-01],\n",
       "       [ 9.08329019e-01,  1.89103298e+00,  9.35835281e-01,\n",
       "         3.59020459e-01],\n",
       "       [-1.12606292e+00, -8.46209587e-01,  2.79934836e-01,\n",
       "        -3.58844351e-01],\n",
       "       [-8.35435497e-01,  9.76671596e-02, -6.99656737e-01,\n",
       "        -1.10073811e+00],\n",
       "       [-5.44808078e-01,  2.54979951e-01, -6.99656737e-01,\n",
       "        -5.48072313e-01],\n",
       "       [-2.54180658e-01, -2.48420981e-01,  2.43892081e-02,\n",
       "         4.79165197e-01],\n",
       "       [-8.35435497e-01, -5.63046563e-01, -1.16535465e-03,\n",
       "         7.36767060e-02],\n",
       "       [-8.35435497e-01,  1.35616949e+00, -1.28938169e-01,\n",
       "        -3.76866062e-01],\n",
       "       [-2.54180658e-01, -3.11346097e-01, -3.24856483e-01,\n",
       "        -1.09544020e-01],\n",
       "       [ 9.08329019e-01, -7.51821912e-01,  7.54983337e-02,\n",
       "         1.21505172e+00],\n",
       "       [-1.12606292e+00,  9.78618790e-01,  1.61729029e+00,\n",
       "        -5.90122972e-01],\n",
       "       [ 3.64467611e-02, -3.11346097e-01,  1.06360809e+00,\n",
       "         2.77392969e+00],\n",
       "       [ 3.64467611e-02, -1.85495864e-01, -6.99656737e-01,\n",
       "        -2.71739416e-01],\n",
       "       [-1.12606292e+00, -2.16958423e-01,  1.72802673e+00,\n",
       "        -8.99495672e-01],\n",
       "       [-5.44808078e-01, -6.88896796e-01,  1.01052896e-01,\n",
       "         5.12205000e-01],\n",
       "       [ 3.64467611e-02, -3.42808656e-01, -6.99656737e-01,\n",
       "        -8.27408829e-01],\n",
       "       [-8.35435497e-01, -8.14747029e-01, -3.75965609e-01,\n",
       "        -3.97891391e-01],\n",
       "       [-5.44808078e-01,  2.23517392e-01, -6.99656737e-01,\n",
       "         1.90588396e+00],\n",
       "       [ 1.19895644e+00, -4.05733772e-01, -6.99656737e-01,\n",
       "         1.46735567e+00],\n",
       "       [-1.12606292e+00,  1.60592276e-01,  3.22525774e-01,\n",
       "         1.45763549e-01],\n",
       "       [-1.12606292e+00,  5.06680416e-01, -6.99656737e-01,\n",
       "        -8.90484817e-01],\n",
       "       [-2.54180658e-01, -6.88896796e-01, -1.54492731e-01,\n",
       "        -5.48072313e-01],\n",
       "       [ 1.19895644e+00,  1.95395809e+00, -6.99656737e-01,\n",
       "         6.17331646e-01],\n",
       "       [-5.44808078e-01, -1.03498494e+00, -5.63365736e-01,\n",
       "         8.99671780e-01],\n",
       "       [ 1.48958386e+00, -2.79883539e-01,  7.91026091e-01,\n",
       "        -6.20159156e-01],\n",
       "       [ 1.19895644e+00,  6.95455766e-01, -6.99656737e-01,\n",
       "        -1.01363317e+00],\n",
       "       [-8.35435497e-01,  2.23517392e-01, -2.05601857e-01,\n",
       "         2.56668002e+00],\n",
       "       [-2.54180658e-01,  1.63933251e+00,  3.33796418e+00,\n",
       "        -6.26166393e-01],\n",
       "       [ 9.08329019e-01,  1.26178181e+00, -6.99656737e-01,\n",
       "        -9.05502909e-01],\n",
       "       [-5.44808078e-01, -4.05733772e-01,  1.66839941e+00,\n",
       "         1.24508790e+00],\n",
       "       [-8.35435497e-01,  2.26858368e+00,  2.49466361e+00,\n",
       "         5.66270132e-01],\n",
       "       [-8.35435497e-01, -3.11346097e-01, -6.99656737e-01,\n",
       "        -9.71582515e-01],\n",
       "       [ 2.07083870e+00, -2.81830733e-02,  5.78071402e-01,\n",
       "         9.56740531e-01],\n",
       "       [ 3.64467611e-02, -2.79883539e-01, -6.99656737e-01,\n",
       "        -6.92245999e-01],\n",
       "       [ 3.27074180e-01, -5.63046563e-01, -6.99656737e-01,\n",
       "        -4.84996326e-01],\n",
       "       [-2.54180658e-01, -1.85495864e-01,  4.92889526e-01,\n",
       "        -9.50557186e-01],\n",
       "       [ 2.36146612e+00,  3.27948490e-03, -6.99656737e-01,\n",
       "        -6.23162775e-01],\n",
       "       [-8.35435497e-01,  6.95455766e-01, -1.80047294e-01,\n",
       "        -6.32173630e-01],\n",
       "       [-5.44808078e-01, -9.72059820e-01, -6.99656737e-01,\n",
       "        -8.27408829e-01],\n",
       "       [ 3.64467611e-02,  1.92054834e-01,  6.20662340e-01,\n",
       "         3.95063880e-01],\n",
       "       [ 3.27074180e-01, -1.54033306e-01, -6.99656737e-01,\n",
       "         5.81288224e-01],\n",
       "       [-8.35435497e-01,  4.43755300e-01, -6.99656737e-01,\n",
       "         6.62385922e-01],\n",
       "       [-5.44808078e-01,  1.70225763e+00, -6.99656737e-01,\n",
       "        -4.21920338e-01],\n",
       "       [ 3.27074180e-01,  5.69605533e-01,  4.92889526e-01,\n",
       "        -1.66612770e-01],\n",
       "       [ 9.08329019e-01, -5.00121447e-01, -6.99656737e-01,\n",
       "        -4.84996326e-01],\n",
       "       [-5.44808078e-01, -1.25522284e+00, -6.99656737e-01,\n",
       "        -5.30050603e-01],\n",
       "       [-8.35435497e-01,  1.60786995e+00,  4.23237388e+00,\n",
       "         7.07440199e-01],\n",
       "       [ 9.08329019e-01, -8.46209587e-01, -2.67199174e-02,\n",
       "         8.15570463e-01],\n",
       "       [ 1.48958386e+00, -5.94509121e-01, -6.99656737e-01,\n",
       "         5.96306317e-01],\n",
       "       [-8.35435497e-01, -4.37196330e-01, -6.99656737e-01,\n",
       "        -8.57445014e-01],\n",
       "       [ 9.08329019e-01, -5.63046563e-01, -6.99656737e-01,\n",
       "        -3.67855206e-01],\n",
       "       [-2.54180658e-01,  6.32530649e-01, -6.99656737e-01,\n",
       "         8.84653688e-01],\n",
       "       [-5.44808078e-01, -2.81830733e-02, -6.99656737e-01,\n",
       "        -3.44535582e-02],\n",
       "       [-5.44808078e-01, -1.06644749e+00, -2.56710982e-01,\n",
       "        -9.02499291e-01],\n",
       "       [ 3.64467611e-02,  1.04154391e+00,  3.73634899e-01,\n",
       "        -3.85876917e-01],\n",
       "       [-8.35435497e-01, -5.00121447e-01, -6.99656737e-01,\n",
       "        -8.39423303e-01],\n",
       "       [ 9.08329019e-01, -1.85301145e+00, -6.99656737e-01,\n",
       "        -2.26685139e-01],\n",
       "       [ 9.08329019e-01, -2.16958423e-01, -6.99656737e-01,\n",
       "        -6.26166393e-01],\n",
       "       [-8.35435497e-01, -6.88896796e-01, -6.99656737e-01,\n",
       "         2.53893813e-01],\n",
       "       [ 3.27074180e-01, -1.03498494e+00, -5.03738423e-01,\n",
       "        -3.73862443e-01],\n",
       "       [ 6.17701600e-01, -1.28668540e+00, -6.99656737e-01,\n",
       "        -4.60967378e-01],\n",
       "       [-8.35435497e-01, -7.51821912e-01, -6.99656737e-01,\n",
       "         1.88786225e+00],\n",
       "       [-5.44808078e-01, -5.00121447e-01,  9.27317093e-01,\n",
       "         7.34472765e-01],\n",
       "       [ 3.64467611e-02, -1.12937261e+00, -2.82265545e-01,\n",
       "        -4.81992707e-01],\n",
       "       [ 3.64467611e-02,  6.63993208e-01, -6.99656737e-01,\n",
       "         5.36233947e-01],\n",
       "       [-2.54180658e-01, -1.54033306e-01,  1.94752960e-01,\n",
       "        -1.07971278e+00],\n",
       "       [-8.35435497e-01, -4.37196330e-01, -1.16535465e-03,\n",
       "         1.06487079e+00]])"
      ]
     },
     "execution_count": 146,
     "metadata": {},
     "output_type": "execute_result"
    }
   ],
   "source": [
    "x_test"
   ]
  },
  {
   "cell_type": "code",
   "execution_count": 147,
   "id": "c0bf604f-1745-4437-be9a-5ae26a962133",
   "metadata": {},
   "outputs": [],
   "source": [
    "from tensorflow.keras.models import Sequential\n",
    "model = Sequential()"
   ]
  },
  {
   "cell_type": "code",
   "execution_count": 148,
   "id": "d41ef14c-6c73-4bd7-baf1-e8aa9c436367",
   "metadata": {},
   "outputs": [
    {
     "name": "stderr",
     "output_type": "stream",
     "text": [
      "C:\\Users\\nirma\\anaconda3\\Lib\\site-packages\\keras\\src\\layers\\core\\dense.py:87: UserWarning: Do not pass an `input_shape`/`input_dim` argument to a layer. When using Sequential models, prefer using an `Input(shape)` object as the first layer in the model instead.\n",
      "  super().__init__(activity_regularizer=activity_regularizer, **kwargs)\n"
     ]
    }
   ],
   "source": [
    "model = Sequential()\n",
    "model.add(Dense(64, input_dim=x_train.shape[1],activation='relu'))\n",
    "model.add(Dropout(0.5))\n",
    "model.add(Dense(32, activation='relu'))\n",
    "model.add(Dropout(0.5))\n",
    "model.add(Dense(1, activation='sigmoid'))\n",
    "#model.add(Dense(128))\n",
    "#model.add(LeakyReLU(alpha=0.1))"
   ]
  },
  {
   "cell_type": "code",
   "execution_count": 149,
   "id": "b7262a1e-8dd0-4096-8ed9-4cfec98bdcdd",
   "metadata": {},
   "outputs": [],
   "source": [
    "model.compile(loss='binary_crossentropy',optimizer='adam',metrics=['accuracy'])"
   ]
  },
  {
   "cell_type": "code",
   "execution_count": 150,
   "id": "dd14ac4e-5628-43f5-b05f-bab69f9d388a",
   "metadata": {},
   "outputs": [
    {
     "name": "stdout",
     "output_type": "stream",
     "text": [
      "Epoch 1/50\n",
      "\u001b[1m39/39\u001b[0m \u001b[32m━━━━━━━━━━━━━━━━━━━━\u001b[0m\u001b[37m\u001b[0m \u001b[1m4s\u001b[0m 18ms/step - accuracy: 0.5942 - loss: 0.6759 - val_accuracy: 0.7208 - val_loss: 0.5700\n",
      "Epoch 2/50\n",
      "\u001b[1m39/39\u001b[0m \u001b[32m━━━━━━━━━━━━━━━━━━━━\u001b[0m\u001b[37m\u001b[0m \u001b[1m0s\u001b[0m 7ms/step - accuracy: 0.6772 - loss: 0.6231 - val_accuracy: 0.7338 - val_loss: 0.5255\n",
      "Epoch 3/50\n",
      "\u001b[1m39/39\u001b[0m \u001b[32m━━━━━━━━━━━━━━━━━━━━\u001b[0m\u001b[37m\u001b[0m \u001b[1m0s\u001b[0m 6ms/step - accuracy: 0.6540 - loss: 0.6062 - val_accuracy: 0.7792 - val_loss: 0.4933\n",
      "Epoch 4/50\n",
      "\u001b[1m39/39\u001b[0m \u001b[32m━━━━━━━━━━━━━━━━━━━━\u001b[0m\u001b[37m\u001b[0m \u001b[1m0s\u001b[0m 6ms/step - accuracy: 0.7194 - loss: 0.5766 - val_accuracy: 0.7792 - val_loss: 0.4780\n",
      "Epoch 5/50\n",
      "\u001b[1m39/39\u001b[0m \u001b[32m━━━━━━━━━━━━━━━━━━━━\u001b[0m\u001b[37m\u001b[0m \u001b[1m0s\u001b[0m 6ms/step - accuracy: 0.7061 - loss: 0.5898 - val_accuracy: 0.7792 - val_loss: 0.4608\n",
      "Epoch 6/50\n",
      "\u001b[1m39/39\u001b[0m \u001b[32m━━━━━━━━━━━━━━━━━━━━\u001b[0m\u001b[37m\u001b[0m \u001b[1m0s\u001b[0m 6ms/step - accuracy: 0.7530 - loss: 0.5470 - val_accuracy: 0.7792 - val_loss: 0.4499\n",
      "Epoch 7/50\n",
      "\u001b[1m39/39\u001b[0m \u001b[32m━━━━━━━━━━━━━━━━━━━━\u001b[0m\u001b[37m\u001b[0m \u001b[1m0s\u001b[0m 6ms/step - accuracy: 0.7300 - loss: 0.5662 - val_accuracy: 0.7727 - val_loss: 0.4573\n",
      "Epoch 8/50\n",
      "\u001b[1m39/39\u001b[0m \u001b[32m━━━━━━━━━━━━━━━━━━━━\u001b[0m\u001b[37m\u001b[0m \u001b[1m0s\u001b[0m 7ms/step - accuracy: 0.7316 - loss: 0.5399 - val_accuracy: 0.7922 - val_loss: 0.4483\n",
      "Epoch 9/50\n",
      "\u001b[1m39/39\u001b[0m \u001b[32m━━━━━━━━━━━━━━━━━━━━\u001b[0m\u001b[37m\u001b[0m \u001b[1m0s\u001b[0m 6ms/step - accuracy: 0.7365 - loss: 0.5266 - val_accuracy: 0.7987 - val_loss: 0.4431\n",
      "Epoch 10/50\n",
      "\u001b[1m39/39\u001b[0m \u001b[32m━━━━━━━━━━━━━━━━━━━━\u001b[0m\u001b[37m\u001b[0m \u001b[1m0s\u001b[0m 6ms/step - accuracy: 0.7559 - loss: 0.5467 - val_accuracy: 0.7792 - val_loss: 0.4474\n",
      "Epoch 11/50\n",
      "\u001b[1m39/39\u001b[0m \u001b[32m━━━━━━━━━━━━━━━━━━━━\u001b[0m\u001b[37m\u001b[0m \u001b[1m0s\u001b[0m 6ms/step - accuracy: 0.7110 - loss: 0.6269 - val_accuracy: 0.7857 - val_loss: 0.4511\n",
      "Epoch 12/50\n",
      "\u001b[1m39/39\u001b[0m \u001b[32m━━━━━━━━━━━━━━━━━━━━\u001b[0m\u001b[37m\u001b[0m \u001b[1m0s\u001b[0m 9ms/step - accuracy: 0.7420 - loss: 0.5378 - val_accuracy: 0.7922 - val_loss: 0.4562\n",
      "Epoch 13/50\n",
      "\u001b[1m39/39\u001b[0m \u001b[32m━━━━━━━━━━━━━━━━━━━━\u001b[0m\u001b[37m\u001b[0m \u001b[1m0s\u001b[0m 6ms/step - accuracy: 0.7079 - loss: 0.5556 - val_accuracy: 0.7922 - val_loss: 0.4505\n",
      "Epoch 14/50\n",
      "\u001b[1m39/39\u001b[0m \u001b[32m━━━━━━━━━━━━━━━━━━━━\u001b[0m\u001b[37m\u001b[0m \u001b[1m0s\u001b[0m 7ms/step - accuracy: 0.7265 - loss: 0.5477 - val_accuracy: 0.7922 - val_loss: 0.4444\n",
      "Epoch 15/50\n",
      "\u001b[1m39/39\u001b[0m \u001b[32m━━━━━━━━━━━━━━━━━━━━\u001b[0m\u001b[37m\u001b[0m \u001b[1m0s\u001b[0m 6ms/step - accuracy: 0.7296 - loss: 0.5652 - val_accuracy: 0.7987 - val_loss: 0.4506\n",
      "Epoch 16/50\n",
      "\u001b[1m39/39\u001b[0m \u001b[32m━━━━━━━━━━━━━━━━━━━━\u001b[0m\u001b[37m\u001b[0m \u001b[1m0s\u001b[0m 7ms/step - accuracy: 0.7034 - loss: 0.5817 - val_accuracy: 0.8052 - val_loss: 0.4529\n",
      "Epoch 17/50\n",
      "\u001b[1m39/39\u001b[0m \u001b[32m━━━━━━━━━━━━━━━━━━━━\u001b[0m\u001b[37m\u001b[0m \u001b[1m0s\u001b[0m 6ms/step - accuracy: 0.7639 - loss: 0.5151 - val_accuracy: 0.7922 - val_loss: 0.4431\n",
      "Epoch 18/50\n",
      "\u001b[1m39/39\u001b[0m \u001b[32m━━━━━━━━━━━━━━━━━━━━\u001b[0m\u001b[37m\u001b[0m \u001b[1m0s\u001b[0m 6ms/step - accuracy: 0.7436 - loss: 0.5304 - val_accuracy: 0.7987 - val_loss: 0.4433\n",
      "Epoch 19/50\n",
      "\u001b[1m39/39\u001b[0m \u001b[32m━━━━━━━━━━━━━━━━━━━━\u001b[0m\u001b[37m\u001b[0m \u001b[1m0s\u001b[0m 6ms/step - accuracy: 0.7403 - loss: 0.5114 - val_accuracy: 0.7922 - val_loss: 0.4473\n",
      "Epoch 20/50\n",
      "\u001b[1m39/39\u001b[0m \u001b[32m━━━━━━━━━━━━━━━━━━━━\u001b[0m\u001b[37m\u001b[0m \u001b[1m0s\u001b[0m 6ms/step - accuracy: 0.7364 - loss: 0.5121 - val_accuracy: 0.7987 - val_loss: 0.4488\n",
      "Epoch 21/50\n",
      "\u001b[1m39/39\u001b[0m \u001b[32m━━━━━━━━━━━━━━━━━━━━\u001b[0m\u001b[37m\u001b[0m \u001b[1m0s\u001b[0m 6ms/step - accuracy: 0.7267 - loss: 0.5517 - val_accuracy: 0.7922 - val_loss: 0.4481\n",
      "Epoch 22/50\n",
      "\u001b[1m39/39\u001b[0m \u001b[32m━━━━━━━━━━━━━━━━━━━━\u001b[0m\u001b[37m\u001b[0m \u001b[1m0s\u001b[0m 7ms/step - accuracy: 0.7558 - loss: 0.5481 - val_accuracy: 0.7922 - val_loss: 0.4502\n",
      "Epoch 23/50\n",
      "\u001b[1m39/39\u001b[0m \u001b[32m━━━━━━━━━━━━━━━━━━━━\u001b[0m\u001b[37m\u001b[0m \u001b[1m0s\u001b[0m 6ms/step - accuracy: 0.7110 - loss: 0.5474 - val_accuracy: 0.7922 - val_loss: 0.4536\n",
      "Epoch 24/50\n",
      "\u001b[1m39/39\u001b[0m \u001b[32m━━━━━━━━━━━━━━━━━━━━\u001b[0m\u001b[37m\u001b[0m \u001b[1m0s\u001b[0m 7ms/step - accuracy: 0.7149 - loss: 0.5713 - val_accuracy: 0.7922 - val_loss: 0.4504\n",
      "Epoch 25/50\n",
      "\u001b[1m39/39\u001b[0m \u001b[32m━━━━━━━━━━━━━━━━━━━━\u001b[0m\u001b[37m\u001b[0m \u001b[1m0s\u001b[0m 6ms/step - accuracy: 0.7494 - loss: 0.5130 - val_accuracy: 0.7922 - val_loss: 0.4489\n",
      "Epoch 26/50\n",
      "\u001b[1m39/39\u001b[0m \u001b[32m━━━━━━━━━━━━━━━━━━━━\u001b[0m\u001b[37m\u001b[0m \u001b[1m0s\u001b[0m 7ms/step - accuracy: 0.7301 - loss: 0.5608 - val_accuracy: 0.7922 - val_loss: 0.4515\n",
      "Epoch 27/50\n",
      "\u001b[1m39/39\u001b[0m \u001b[32m━━━━━━━━━━━━━━━━━━━━\u001b[0m\u001b[37m\u001b[0m \u001b[1m0s\u001b[0m 6ms/step - accuracy: 0.7231 - loss: 0.5377 - val_accuracy: 0.7857 - val_loss: 0.4481\n",
      "Epoch 28/50\n",
      "\u001b[1m39/39\u001b[0m \u001b[32m━━━━━━━━━━━━━━━━━━━━\u001b[0m\u001b[37m\u001b[0m \u001b[1m0s\u001b[0m 6ms/step - accuracy: 0.7550 - loss: 0.5541 - val_accuracy: 0.7922 - val_loss: 0.4501\n",
      "Epoch 29/50\n",
      "\u001b[1m39/39\u001b[0m \u001b[32m━━━━━━━━━━━━━━━━━━━━\u001b[0m\u001b[37m\u001b[0m \u001b[1m0s\u001b[0m 7ms/step - accuracy: 0.7217 - loss: 0.5290 - val_accuracy: 0.7922 - val_loss: 0.4493\n",
      "Epoch 30/50\n",
      "\u001b[1m39/39\u001b[0m \u001b[32m━━━━━━━━━━━━━━━━━━━━\u001b[0m\u001b[37m\u001b[0m \u001b[1m0s\u001b[0m 6ms/step - accuracy: 0.7673 - loss: 0.4774 - val_accuracy: 0.7857 - val_loss: 0.4494\n",
      "Epoch 31/50\n",
      "\u001b[1m39/39\u001b[0m \u001b[32m━━━━━━━━━━━━━━━━━━━━\u001b[0m\u001b[37m\u001b[0m \u001b[1m0s\u001b[0m 7ms/step - accuracy: 0.7525 - loss: 0.5496 - val_accuracy: 0.7922 - val_loss: 0.4548\n",
      "Epoch 32/50\n",
      "\u001b[1m39/39\u001b[0m \u001b[32m━━━━━━━━━━━━━━━━━━━━\u001b[0m\u001b[37m\u001b[0m \u001b[1m0s\u001b[0m 6ms/step - accuracy: 0.7697 - loss: 0.4933 - val_accuracy: 0.7857 - val_loss: 0.4532\n",
      "Epoch 33/50\n",
      "\u001b[1m39/39\u001b[0m \u001b[32m━━━━━━━━━━━━━━━━━━━━\u001b[0m\u001b[37m\u001b[0m \u001b[1m0s\u001b[0m 7ms/step - accuracy: 0.7382 - loss: 0.5175 - val_accuracy: 0.7727 - val_loss: 0.4500\n",
      "Epoch 34/50\n",
      "\u001b[1m39/39\u001b[0m \u001b[32m━━━━━━━━━━━━━━━━━━━━\u001b[0m\u001b[37m\u001b[0m \u001b[1m1s\u001b[0m 8ms/step - accuracy: 0.7307 - loss: 0.5193 - val_accuracy: 0.7857 - val_loss: 0.4520\n",
      "Epoch 35/50\n",
      "\u001b[1m39/39\u001b[0m \u001b[32m━━━━━━━━━━━━━━━━━━━━\u001b[0m\u001b[37m\u001b[0m \u001b[1m0s\u001b[0m 6ms/step - accuracy: 0.7582 - loss: 0.5194 - val_accuracy: 0.7857 - val_loss: 0.4563\n",
      "Epoch 36/50\n",
      "\u001b[1m39/39\u001b[0m \u001b[32m━━━━━━━━━━━━━━━━━━━━\u001b[0m\u001b[37m\u001b[0m \u001b[1m0s\u001b[0m 7ms/step - accuracy: 0.7545 - loss: 0.5399 - val_accuracy: 0.7857 - val_loss: 0.4562\n",
      "Epoch 37/50\n",
      "\u001b[1m39/39\u001b[0m \u001b[32m━━━━━━━━━━━━━━━━━━━━\u001b[0m\u001b[37m\u001b[0m \u001b[1m0s\u001b[0m 7ms/step - accuracy: 0.7799 - loss: 0.5198 - val_accuracy: 0.7857 - val_loss: 0.4538\n",
      "Epoch 38/50\n",
      "\u001b[1m39/39\u001b[0m \u001b[32m━━━━━━━━━━━━━━━━━━━━\u001b[0m\u001b[37m\u001b[0m \u001b[1m0s\u001b[0m 7ms/step - accuracy: 0.7405 - loss: 0.5151 - val_accuracy: 0.7857 - val_loss: 0.4535\n",
      "Epoch 39/50\n",
      "\u001b[1m39/39\u001b[0m \u001b[32m━━━━━━━━━━━━━━━━━━━━\u001b[0m\u001b[37m\u001b[0m \u001b[1m0s\u001b[0m 7ms/step - accuracy: 0.7550 - loss: 0.5054 - val_accuracy: 0.7792 - val_loss: 0.4532\n",
      "Epoch 40/50\n",
      "\u001b[1m39/39\u001b[0m \u001b[32m━━━━━━━━━━━━━━━━━━━━\u001b[0m\u001b[37m\u001b[0m \u001b[1m0s\u001b[0m 7ms/step - accuracy: 0.7776 - loss: 0.4949 - val_accuracy: 0.7922 - val_loss: 0.4573\n",
      "Epoch 41/50\n",
      "\u001b[1m39/39\u001b[0m \u001b[32m━━━━━━━━━━━━━━━━━━━━\u001b[0m\u001b[37m\u001b[0m \u001b[1m0s\u001b[0m 7ms/step - accuracy: 0.7545 - loss: 0.5099 - val_accuracy: 0.7792 - val_loss: 0.4572\n",
      "Epoch 42/50\n",
      "\u001b[1m39/39\u001b[0m \u001b[32m━━━━━━━━━━━━━━━━━━━━\u001b[0m\u001b[37m\u001b[0m \u001b[1m0s\u001b[0m 6ms/step - accuracy: 0.7480 - loss: 0.5492 - val_accuracy: 0.7857 - val_loss: 0.4550\n",
      "Epoch 43/50\n",
      "\u001b[1m39/39\u001b[0m \u001b[32m━━━━━━━━━━━━━━━━━━━━\u001b[0m\u001b[37m\u001b[0m \u001b[1m0s\u001b[0m 8ms/step - accuracy: 0.7302 - loss: 0.5356 - val_accuracy: 0.7922 - val_loss: 0.4584\n",
      "Epoch 44/50\n",
      "\u001b[1m39/39\u001b[0m \u001b[32m━━━━━━━━━━━━━━━━━━━━\u001b[0m\u001b[37m\u001b[0m \u001b[1m0s\u001b[0m 6ms/step - accuracy: 0.7661 - loss: 0.5118 - val_accuracy: 0.7792 - val_loss: 0.4596\n",
      "Epoch 45/50\n",
      "\u001b[1m39/39\u001b[0m \u001b[32m━━━━━━━━━━━━━━━━━━━━\u001b[0m\u001b[37m\u001b[0m \u001b[1m0s\u001b[0m 6ms/step - accuracy: 0.7571 - loss: 0.4990 - val_accuracy: 0.7792 - val_loss: 0.4564\n",
      "Epoch 46/50\n",
      "\u001b[1m39/39\u001b[0m \u001b[32m━━━━━━━━━━━━━━━━━━━━\u001b[0m\u001b[37m\u001b[0m \u001b[1m0s\u001b[0m 6ms/step - accuracy: 0.7338 - loss: 0.5586 - val_accuracy: 0.7922 - val_loss: 0.4587\n",
      "Epoch 47/50\n",
      "\u001b[1m39/39\u001b[0m \u001b[32m━━━━━━━━━━━━━━━━━━━━\u001b[0m\u001b[37m\u001b[0m \u001b[1m0s\u001b[0m 7ms/step - accuracy: 0.7464 - loss: 0.5152 - val_accuracy: 0.7922 - val_loss: 0.4566\n",
      "Epoch 48/50\n",
      "\u001b[1m39/39\u001b[0m \u001b[32m━━━━━━━━━━━━━━━━━━━━\u001b[0m\u001b[37m\u001b[0m \u001b[1m0s\u001b[0m 6ms/step - accuracy: 0.7343 - loss: 0.5178 - val_accuracy: 0.7922 - val_loss: 0.4541\n",
      "Epoch 49/50\n",
      "\u001b[1m39/39\u001b[0m \u001b[32m━━━━━━━━━━━━━━━━━━━━\u001b[0m\u001b[37m\u001b[0m \u001b[1m0s\u001b[0m 6ms/step - accuracy: 0.7482 - loss: 0.5388 - val_accuracy: 0.7922 - val_loss: 0.4558\n",
      "Epoch 50/50\n",
      "\u001b[1m39/39\u001b[0m \u001b[32m━━━━━━━━━━━━━━━━━━━━\u001b[0m\u001b[37m\u001b[0m \u001b[1m0s\u001b[0m 6ms/step - accuracy: 0.7625 - loss: 0.5170 - val_accuracy: 0.7922 - val_loss: 0.4590\n"
     ]
    }
   ],
   "source": [
    "history = model.fit(x_train, y_train,epochs=50,batch_size=16,validation_data=(x_test, y_test))"
   ]
  },
  {
   "cell_type": "code",
   "execution_count": 151,
   "id": "32e04627-f8c6-4e09-bfe4-71bb539e6c25",
   "metadata": {},
   "outputs": [
    {
     "data": {
      "text/html": [
       "<pre style=\"white-space:pre;overflow-x:auto;line-height:normal;font-family:Menlo,'DejaVu Sans Mono',consolas,'Courier New',monospace\"><span style=\"font-weight: bold\">Model: \"sequential_5\"</span>\n",
       "</pre>\n"
      ],
      "text/plain": [
       "\u001b[1mModel: \"sequential_5\"\u001b[0m\n"
      ]
     },
     "metadata": {},
     "output_type": "display_data"
    },
    {
     "data": {
      "text/html": [
       "<pre style=\"white-space:pre;overflow-x:auto;line-height:normal;font-family:Menlo,'DejaVu Sans Mono',consolas,'Courier New',monospace\">┏━━━━━━━━━━━━━━━━━━━━━━━━━━━━━━━━━━━━━━┳━━━━━━━━━━━━━━━━━━━━━━━━━━━━━┳━━━━━━━━━━━━━━━━━┓\n",
       "┃<span style=\"font-weight: bold\"> Layer (type)                         </span>┃<span style=\"font-weight: bold\"> Output Shape                </span>┃<span style=\"font-weight: bold\">         Param # </span>┃\n",
       "┡━━━━━━━━━━━━━━━━━━━━━━━━━━━━━━━━━━━━━━╇━━━━━━━━━━━━━━━━━━━━━━━━━━━━━╇━━━━━━━━━━━━━━━━━┩\n",
       "│ dense_6 (<span style=\"color: #0087ff; text-decoration-color: #0087ff\">Dense</span>)                      │ (<span style=\"color: #00d7ff; text-decoration-color: #00d7ff\">None</span>, <span style=\"color: #00af00; text-decoration-color: #00af00\">64</span>)                  │             <span style=\"color: #00af00; text-decoration-color: #00af00\">320</span> │\n",
       "├──────────────────────────────────────┼─────────────────────────────┼─────────────────┤\n",
       "│ dropout_4 (<span style=\"color: #0087ff; text-decoration-color: #0087ff\">Dropout</span>)                  │ (<span style=\"color: #00d7ff; text-decoration-color: #00d7ff\">None</span>, <span style=\"color: #00af00; text-decoration-color: #00af00\">64</span>)                  │               <span style=\"color: #00af00; text-decoration-color: #00af00\">0</span> │\n",
       "├──────────────────────────────────────┼─────────────────────────────┼─────────────────┤\n",
       "│ dense_7 (<span style=\"color: #0087ff; text-decoration-color: #0087ff\">Dense</span>)                      │ (<span style=\"color: #00d7ff; text-decoration-color: #00d7ff\">None</span>, <span style=\"color: #00af00; text-decoration-color: #00af00\">32</span>)                  │           <span style=\"color: #00af00; text-decoration-color: #00af00\">2,080</span> │\n",
       "├──────────────────────────────────────┼─────────────────────────────┼─────────────────┤\n",
       "│ dropout_5 (<span style=\"color: #0087ff; text-decoration-color: #0087ff\">Dropout</span>)                  │ (<span style=\"color: #00d7ff; text-decoration-color: #00d7ff\">None</span>, <span style=\"color: #00af00; text-decoration-color: #00af00\">32</span>)                  │               <span style=\"color: #00af00; text-decoration-color: #00af00\">0</span> │\n",
       "├──────────────────────────────────────┼─────────────────────────────┼─────────────────┤\n",
       "│ dense_8 (<span style=\"color: #0087ff; text-decoration-color: #0087ff\">Dense</span>)                      │ (<span style=\"color: #00d7ff; text-decoration-color: #00d7ff\">None</span>, <span style=\"color: #00af00; text-decoration-color: #00af00\">1</span>)                   │              <span style=\"color: #00af00; text-decoration-color: #00af00\">33</span> │\n",
       "└──────────────────────────────────────┴─────────────────────────────┴─────────────────┘\n",
       "</pre>\n"
      ],
      "text/plain": [
       "┏━━━━━━━━━━━━━━━━━━━━━━━━━━━━━━━━━━━━━━┳━━━━━━━━━━━━━━━━━━━━━━━━━━━━━┳━━━━━━━━━━━━━━━━━┓\n",
       "┃\u001b[1m \u001b[0m\u001b[1mLayer (type)                        \u001b[0m\u001b[1m \u001b[0m┃\u001b[1m \u001b[0m\u001b[1mOutput Shape               \u001b[0m\u001b[1m \u001b[0m┃\u001b[1m \u001b[0m\u001b[1m        Param #\u001b[0m\u001b[1m \u001b[0m┃\n",
       "┡━━━━━━━━━━━━━━━━━━━━━━━━━━━━━━━━━━━━━━╇━━━━━━━━━━━━━━━━━━━━━━━━━━━━━╇━━━━━━━━━━━━━━━━━┩\n",
       "│ dense_6 (\u001b[38;5;33mDense\u001b[0m)                      │ (\u001b[38;5;45mNone\u001b[0m, \u001b[38;5;34m64\u001b[0m)                  │             \u001b[38;5;34m320\u001b[0m │\n",
       "├──────────────────────────────────────┼─────────────────────────────┼─────────────────┤\n",
       "│ dropout_4 (\u001b[38;5;33mDropout\u001b[0m)                  │ (\u001b[38;5;45mNone\u001b[0m, \u001b[38;5;34m64\u001b[0m)                  │               \u001b[38;5;34m0\u001b[0m │\n",
       "├──────────────────────────────────────┼─────────────────────────────┼─────────────────┤\n",
       "│ dense_7 (\u001b[38;5;33mDense\u001b[0m)                      │ (\u001b[38;5;45mNone\u001b[0m, \u001b[38;5;34m32\u001b[0m)                  │           \u001b[38;5;34m2,080\u001b[0m │\n",
       "├──────────────────────────────────────┼─────────────────────────────┼─────────────────┤\n",
       "│ dropout_5 (\u001b[38;5;33mDropout\u001b[0m)                  │ (\u001b[38;5;45mNone\u001b[0m, \u001b[38;5;34m32\u001b[0m)                  │               \u001b[38;5;34m0\u001b[0m │\n",
       "├──────────────────────────────────────┼─────────────────────────────┼─────────────────┤\n",
       "│ dense_8 (\u001b[38;5;33mDense\u001b[0m)                      │ (\u001b[38;5;45mNone\u001b[0m, \u001b[38;5;34m1\u001b[0m)                   │              \u001b[38;5;34m33\u001b[0m │\n",
       "└──────────────────────────────────────┴─────────────────────────────┴─────────────────┘\n"
      ]
     },
     "metadata": {},
     "output_type": "display_data"
    },
    {
     "data": {
      "text/html": [
       "<pre style=\"white-space:pre;overflow-x:auto;line-height:normal;font-family:Menlo,'DejaVu Sans Mono',consolas,'Courier New',monospace\"><span style=\"font-weight: bold\"> Total params: </span><span style=\"color: #00af00; text-decoration-color: #00af00\">7,301</span> (28.52 KB)\n",
       "</pre>\n"
      ],
      "text/plain": [
       "\u001b[1m Total params: \u001b[0m\u001b[38;5;34m7,301\u001b[0m (28.52 KB)\n"
      ]
     },
     "metadata": {},
     "output_type": "display_data"
    },
    {
     "data": {
      "text/html": [
       "<pre style=\"white-space:pre;overflow-x:auto;line-height:normal;font-family:Menlo,'DejaVu Sans Mono',consolas,'Courier New',monospace\"><span style=\"font-weight: bold\"> Trainable params: </span><span style=\"color: #00af00; text-decoration-color: #00af00\">2,433</span> (9.50 KB)\n",
       "</pre>\n"
      ],
      "text/plain": [
       "\u001b[1m Trainable params: \u001b[0m\u001b[38;5;34m2,433\u001b[0m (9.50 KB)\n"
      ]
     },
     "metadata": {},
     "output_type": "display_data"
    },
    {
     "data": {
      "text/html": [
       "<pre style=\"white-space:pre;overflow-x:auto;line-height:normal;font-family:Menlo,'DejaVu Sans Mono',consolas,'Courier New',monospace\"><span style=\"font-weight: bold\"> Non-trainable params: </span><span style=\"color: #00af00; text-decoration-color: #00af00\">0</span> (0.00 B)\n",
       "</pre>\n"
      ],
      "text/plain": [
       "\u001b[1m Non-trainable params: \u001b[0m\u001b[38;5;34m0\u001b[0m (0.00 B)\n"
      ]
     },
     "metadata": {},
     "output_type": "display_data"
    },
    {
     "data": {
      "text/html": [
       "<pre style=\"white-space:pre;overflow-x:auto;line-height:normal;font-family:Menlo,'DejaVu Sans Mono',consolas,'Courier New',monospace\"><span style=\"font-weight: bold\"> Optimizer params: </span><span style=\"color: #00af00; text-decoration-color: #00af00\">4,868</span> (19.02 KB)\n",
       "</pre>\n"
      ],
      "text/plain": [
       "\u001b[1m Optimizer params: \u001b[0m\u001b[38;5;34m4,868\u001b[0m (19.02 KB)\n"
      ]
     },
     "metadata": {},
     "output_type": "display_data"
    }
   ],
   "source": [
    "model.summary()"
   ]
  },
  {
   "cell_type": "code",
   "execution_count": 157,
   "id": "7420c7b2-9fbd-460b-a93a-0d11ad4ddc90",
   "metadata": {},
   "outputs": [
    {
     "name": "stdout",
     "output_type": "stream",
     "text": [
      "\u001b[1m5/5\u001b[0m \u001b[32m━━━━━━━━━━━━━━━━━━━━\u001b[0m\u001b[37m\u001b[0m \u001b[1m0s\u001b[0m 10ms/step\n"
     ]
    }
   ],
   "source": [
    "y_pred = (model.predict(x_test)>0.5).astype(\"int64\")\n",
    "accuracy = accuracy_score(y_test,y_pred)"
   ]
  },
  {
   "cell_type": "code",
   "execution_count": 156,
   "id": "02364087-4ef0-4fd8-90e8-b0fe4985d5d6",
   "metadata": {},
   "outputs": [
    {
     "name": "stdout",
     "output_type": "stream",
     "text": [
      "Model Accuracy is :79.22%\n"
     ]
    }
   ],
   "source": [
    "print(f\"Model Accuracy is :{accuracy*100:.2f}%\")"
   ]
  },
  {
   "cell_type": "code",
   "execution_count": null,
   "id": "76ba8a71-22d6-43cb-a8fb-a19fa4d3cbe3",
   "metadata": {},
   "outputs": [],
   "source": []
  },
  {
   "cell_type": "code",
   "execution_count": 199,
   "id": "2061814d-1746-4ffd-bc28-740ea66e25e9",
   "metadata": {},
   "outputs": [],
   "source": [
    "input_data = (1,8,29,26.6)"
   ]
  },
  {
   "cell_type": "code",
   "execution_count": 200,
   "id": "a0d6d9e8-9713-48d2-935b-8819b944a37f",
   "metadata": {},
   "outputs": [],
   "source": [
    "input_data_as_numpy_array = np.random.rand(786, 4)  # Replace this with your actual data\n"
   ]
  },
  {
   "cell_type": "code",
   "execution_count": 201,
   "id": "a2a5f470-711f-4978-bd45-40e51b86d995",
   "metadata": {},
   "outputs": [],
   "source": [
    "# reshape the numpy array\n",
    "input_data_reshaped = input_data_as_numpy_array.reshape(786,4)"
   ]
  },
  {
   "cell_type": "code",
   "execution_count": 202,
   "id": "4dbfe6e3-bade-4aa0-be98-97faf30c7d3e",
   "metadata": {},
   "outputs": [],
   "source": [
    "std_data = scaler.transform(input_data_reshaped)"
   ]
  },
  {
   "cell_type": "code",
   "execution_count": 203,
   "id": "7ddb40c0-ed9b-4b1e-b7cf-3e9c1f5984f9",
   "metadata": {},
   "outputs": [
    {
     "data": {
      "text/plain": [
       "'\\'import numpy as np\\nfrom sklearn.preprocessing import StandardScaler\\n\\n# Example input data\\ninput_data_as_numpy_array = np.random.rand(786, 4)  # Replace this with your actual data\\n\\n# Reshape the numpy array to ensure it is 2D\\ninput_data_reshaped = input_data_as_numpy_array.reshape(786, 4)\\n\\n# Initialize the StandardScaler\\nscaler = StandardScaler()\\n\\n# Fit the scaler with the original dataset\\nscaler.fit(input_data_as_numpy_array)\\n\\n# Standardize the reshaped data\\nstd_data = scaler.transform(input_data_reshaped)\\n\\nprint(std_data)\\nprint(\"Shape after standardization:\", std_data.shape)\\n'"
      ]
     },
     "execution_count": 203,
     "metadata": {},
     "output_type": "execute_result"
    }
   ],
   "source": [
    "# Standardize the data\n",
    "#std_data = scaler.transform(input_data_reshaped)\n",
    "''''import numpy as np\n",
    "from sklearn.preprocessing import StandardScaler\n",
    "\n",
    "# Example input data\n",
    "input_data_as_numpy_array = np.random.rand(786, 4)  # Replace this with your actual data\n",
    "\n",
    "# Reshape the numpy array to ensure it is 2D\n",
    "input_data_reshaped = input_data_as_numpy_array.reshape(786, 4)\n",
    "\n",
    "# Initialize the StandardScaler\n",
    "scaler = StandardScaler()\n",
    "\n",
    "# Fit the scaler with the original dataset\n",
    "scaler.fit(input_data_as_numpy_array)\n",
    "\n",
    "# Standardize the reshaped data\n",
    "std_data = scaler.transform(input_data_reshaped)\n",
    "\n",
    "print(std_data)\n",
    "print(\"Shape after standardization:\", std_data.shape)\n",
    "'''"
   ]
  },
  {
   "cell_type": "code",
   "execution_count": 197,
   "id": "0bae9779-1dd5-4e1c-9384-51ffb9d47448",
   "metadata": {},
   "outputs": [
    {
     "name": "stdout",
     "output_type": "stream",
     "text": [
      "\u001b[1m25/25\u001b[0m \u001b[32m━━━━━━━━━━━━━━━━━━━━\u001b[0m\u001b[37m\u001b[0m \u001b[1m0s\u001b[0m 3ms/step\n"
     ]
    }
   ],
   "source": [
    "prediction = model.predict(std_data)\n",
    "#print(prediction)"
   ]
  },
  {
   "cell_type": "code",
   "execution_count": 198,
   "id": "642ae324-1ecc-4633-90fd-7d330ff719d0",
   "metadata": {},
   "outputs": [
    {
     "name": "stdout",
     "output_type": "stream",
     "text": [
      "Diognized\n"
     ]
    }
   ],
   "source": [
    "if(prediction[0]==0):\n",
    "    print(\"Not Diagnoside\")\n",
    "else:\n",
    "    print(\"Diognized\")"
   ]
  },
  {
   "cell_type": "code",
   "execution_count": null,
   "id": "25e817a3-c7b3-4743-bb15-1e1e8c9c75ed",
   "metadata": {},
   "outputs": [],
   "source": []
  },
  {
   "cell_type": "code",
   "execution_count": null,
   "id": "1129a268-9172-4d98-a599-7030b6f4dbbd",
   "metadata": {},
   "outputs": [],
   "source": []
  }
 ],
 "metadata": {
  "kernelspec": {
   "display_name": "Python 3 (ipykernel)",
   "language": "python",
   "name": "python3"
  },
  "language_info": {
   "codemirror_mode": {
    "name": "ipython",
    "version": 3
   },
   "file_extension": ".py",
   "mimetype": "text/x-python",
   "name": "python",
   "nbconvert_exporter": "python",
   "pygments_lexer": "ipython3",
   "version": "3.11.7"
  }
 },
 "nbformat": 4,
 "nbformat_minor": 5
}
